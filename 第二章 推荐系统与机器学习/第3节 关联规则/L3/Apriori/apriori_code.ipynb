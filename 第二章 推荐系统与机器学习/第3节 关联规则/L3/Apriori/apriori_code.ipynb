{
 "cells": [
  {
   "cell_type": "code",
   "execution_count": 3,
   "metadata": {},
   "outputs": [],
   "source": [
    "import pandas as pd\n",
    "import time"
   ]
  },
  {
   "cell_type": "code",
   "execution_count": 4,
   "metadata": {},
   "outputs": [],
   "source": [
    "data = pd.read_csv('BreadBasket_DMS.csv')\n",
    "data['Item'] = data['Item'].str.lower()\n",
    "data = data.drop(data[data.Item=='none'].index)"
   ]
  },
  {
   "cell_type": "code",
   "execution_count": 15,
   "metadata": {},
   "outputs": [
    {
     "data": {
      "text/plain": [
       "[(2, 'scandinavian'),\n",
       " (2, 'scandinavian'),\n",
       " (3, 'hot chocolate'),\n",
       " (3, 'jam'),\n",
       " (3, 'cookies')]"
      ]
     },
     "execution_count": 15,
     "metadata": {},
     "output_type": "execute_result"
    }
   ],
   "source": [
    "data.head()\n",
    "orders_series = data.set_index('Transaction')['Item']\n",
    "list(orders_series.head(5).items())"
   ]
  },
  {
   "cell_type": "code",
   "execution_count": null,
   "metadata": {},
   "outputs": [],
   "source": [
    "from efficient_apriori import apriori\n",
    "start = time.time()\n",
    "order_series = data.set_index('Transaction')['Item']\n",
    "transactions = []\n",
    "temp_index = 0\n",
    "for i, v in order_series.items():\n",
    "    if i!=temp_index:\n",
    "        temp_set = set()\n",
    "        temp_index = i\n",
    "        temp_set.add(v)\n",
    "        transactions.append(temp_set)\n",
    "    else:\n",
    "        temp_set.add(v)\n",
    "\n",
    "itemsets, rules = apriori(transactions, min_support=0.02, min_confidence=0.5)\n",
    "print(\"频繁项集：\", itemsets)\n",
    "print(\"关联规则：\", rules)\n",
    "end = time.time()\n",
    "print(\"用时：\", end-start)"
   ]
  },
  {
   "cell_type": "code",
   "execution_count": null,
   "metadata": {},
   "outputs": [],
   "source": [
    "def encode_units(x):\n",
    "    return int(x>=1)\n",
    "from mlxtend.frequent_patterns import apriori\n",
    "from mlxtend.frequent_patterns import association_rules\n",
    "pd.options.display.max_columns = 100\n",
    "start = time.time()\n",
    "hot_encoded_df = data.groupby(['Transaction', 'Item'])['Item']\\\n",
    "    .count().unstack().reset_index().fillna(0).set_index('Transaction')\n",
    "hot_encoded_df = hot_encoded_df.applymap(encode_units)\n",
    "frequent_itemsets = apriori(hot_encoded_df, min_support=0.02, use_colnames=True)\n",
    "rules = association_rules(frequent_itemsets, metric='lift', min_threshold=0.5)\n",
    "print(\"频繁项集：\", frequent_itemsets)\n",
    "print(\"关联规则：\", rules[ (rules['lift']>=1) & (rules['confidence']>0.5)])\n",
    "end = time.time()\n",
    "print(\"用时：\", end-start)"
   ]
  }
 ],
 "metadata": {
  "kernelspec": {
   "display_name": "Python 3",
   "language": "python",
   "name": "python3"
  },
  "language_info": {
   "codemirror_mode": {
    "name": "ipython",
    "version": 3
   },
   "file_extension": ".py",
   "mimetype": "text/x-python",
   "name": "python",
   "nbconvert_exporter": "python",
   "pygments_lexer": "ipython3",
   "version": "3.7.0"
  }
 },
 "nbformat": 4,
 "nbformat_minor": 2
}
